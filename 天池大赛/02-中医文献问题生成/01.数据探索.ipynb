{
 "cells": [
  {
   "cell_type": "code",
   "execution_count": 2,
   "metadata": {},
   "outputs": [],
   "source": [
    "import pandas as pd"
   ]
  },
  {
   "cell_type": "code",
   "execution_count": 4,
   "metadata": {},
   "outputs": [
    {
     "data": {
      "text/html": [
       "<div>\n",
       "<style scoped>\n",
       "    .dataframe tbody tr th:only-of-type {\n",
       "        vertical-align: middle;\n",
       "    }\n",
       "\n",
       "    .dataframe tbody tr th {\n",
       "        vertical-align: top;\n",
       "    }\n",
       "\n",
       "    .dataframe thead th {\n",
       "        text-align: right;\n",
       "    }\n",
       "</style>\n",
       "<table border=\"1\" class=\"dataframe\">\n",
       "  <thead>\n",
       "    <tr style=\"text-align: right;\">\n",
       "      <th></th>\n",
       "      <th>id</th>\n",
       "      <th>text</th>\n",
       "      <th>annotations</th>\n",
       "    </tr>\n",
       "  </thead>\n",
       "  <tbody>\n",
       "    <tr>\n",
       "      <th>0</th>\n",
       "      <td>1240</td>\n",
       "      <td>\"胆石症的治疗应区别不同情况分别处理，无症状胆囊结石可不作治疗，但应定期观察并注意良好的饮食...</td>\n",
       "      <td>[{'Q': '什么类型的胆囊结石可不作治疗？', 'A': '无症状胆囊结'}, {'Q'...</td>\n",
       "    </tr>\n",
       "    <tr>\n",
       "      <th>1</th>\n",
       "      <td>828</td>\n",
       "      <td>反佐配伍的典范，始见于张仲景《伤寒杂病论》，其中记载“干呕、吐涎沫、头痛者吴茱萸汤主之”。患...</td>\n",
       "      <td>[{'Q': '“干呕、吐涎沫、头痛者吴茱萸汤主之”这句话曾出现在哪本医学巨著中？', 'A...</td>\n",
       "    </tr>\n",
       "    <tr>\n",
       "      <th>2</th>\n",
       "      <td>524</td>\n",
       "      <td>疼痛是临床上常见的一种自觉症状。疼痛有虚实之分，实性疼痛多因感受外邪、气滞血瘀、痰浊凝滞，或...</td>\n",
       "      <td>[{'Q': '不通则痛是什么意思 ？', 'A': '实性疼痛多因感受外邪、气滞血瘀、痰浊...</td>\n",
       "    </tr>\n",
       "    <tr>\n",
       "      <th>3</th>\n",
       "      <td>17</td>\n",
       "      <td>黄帝说：什麽叫做所胜？岐伯说：春胜长夏，长夏胜冬，冬胜夏，夏胜秋，秋胜春，这就是时令根据五行...</td>\n",
       "      <td>[{'Q': '时令是怎么根据五行的变化互分胜负的？', 'A': '春胜长夏，长夏胜冬，冬...</td>\n",
       "    </tr>\n",
       "    <tr>\n",
       "      <th>4</th>\n",
       "      <td>1199</td>\n",
       "      <td>\"色素障碍性皮肤病（比如雀斑、黄褐斑）已成为美容的大敌，人们通过各种途径力图祛除色素斑。祛斑...</td>\n",
       "      <td>[{'Q': '我国生产的祛斑化妆品大约有多少种？', 'A': '达百余种'}, {'Q'...</td>\n",
       "    </tr>\n",
       "  </tbody>\n",
       "</table>\n",
       "</div>"
      ],
      "text/plain": [
       "     id                                               text  \\\n",
       "0  1240  \"胆石症的治疗应区别不同情况分别处理，无症状胆囊结石可不作治疗，但应定期观察并注意良好的饮食...   \n",
       "1   828  反佐配伍的典范，始见于张仲景《伤寒杂病论》，其中记载“干呕、吐涎沫、头痛者吴茱萸汤主之”。患...   \n",
       "2   524  疼痛是临床上常见的一种自觉症状。疼痛有虚实之分，实性疼痛多因感受外邪、气滞血瘀、痰浊凝滞，或...   \n",
       "3    17  黄帝说：什麽叫做所胜？岐伯说：春胜长夏，长夏胜冬，冬胜夏，夏胜秋，秋胜春，这就是时令根据五行...   \n",
       "4  1199  \"色素障碍性皮肤病（比如雀斑、黄褐斑）已成为美容的大敌，人们通过各种途径力图祛除色素斑。祛斑...   \n",
       "\n",
       "                                         annotations  \n",
       "0  [{'Q': '什么类型的胆囊结石可不作治疗？', 'A': '无症状胆囊结'}, {'Q'...  \n",
       "1  [{'Q': '“干呕、吐涎沫、头痛者吴茱萸汤主之”这句话曾出现在哪本医学巨著中？', 'A...  \n",
       "2  [{'Q': '不通则痛是什么意思 ？', 'A': '实性疼痛多因感受外邪、气滞血瘀、痰浊...  \n",
       "3  [{'Q': '时令是怎么根据五行的变化互分胜负的？', 'A': '春胜长夏，长夏胜冬，冬...  \n",
       "4  [{'Q': '我国生产的祛斑化妆品大约有多少种？', 'A': '达百余种'}, {'Q'...  "
      ]
     },
     "execution_count": 4,
     "metadata": {},
     "output_type": "execute_result"
    }
   ],
   "source": [
    "train = pd.read_json('round1_train_0907.json')\n",
    "train.head()"
   ]
  },
  {
   "cell_type": "code",
   "execution_count": null,
   "metadata": {},
   "outputs": [],
   "source": []
  }
 ],
 "metadata": {
  "kernelspec": {
   "display_name": "Python 3",
   "language": "python",
   "name": "python3"
  },
  "language_info": {
   "codemirror_mode": {
    "name": "ipython",
    "version": 3
   },
   "file_extension": ".py",
   "mimetype": "text/x-python",
   "name": "python",
   "nbconvert_exporter": "python",
   "pygments_lexer": "ipython3",
   "version": "3.8.5"
  }
 },
 "nbformat": 4,
 "nbformat_minor": 4
}
