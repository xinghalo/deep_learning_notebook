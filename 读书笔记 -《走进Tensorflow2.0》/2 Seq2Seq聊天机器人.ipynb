{
 "cells": [
  {
   "cell_type": "markdown",
   "metadata": {},
   "source": [
    "\n",
    "语言模型：\n",
    "- 统计语言模型：根据贝叶斯公司计算每个单词出现的频率\n",
    "- n-gram语言模型：根据马尔科夫假设，每个词仅与前面n个词有关系，缩短概率依赖的词的数量。比如2-gram，表示每个词仅与前面一个词有关系；3-gram表示每个词仅与前面2个词有关系。\n",
    "- 神经网络语言模型：one-hot后输入神经网络，输出对应的向量作为表示"
   ]
  },
  {
   "cell_type": "code",
   "execution_count": null,
   "metadata": {},
   "outputs": [],
   "source": []
  }
 ],
 "metadata": {
  "kernelspec": {
   "display_name": "Python 3",
   "language": "python",
   "name": "python3"
  },
  "language_info": {
   "codemirror_mode": {
    "name": "ipython",
    "version": 3
   },
   "file_extension": ".py",
   "mimetype": "text/x-python",
   "name": "python",
   "nbconvert_exporter": "python",
   "pygments_lexer": "ipython3",
   "version": "3.8.5"
  }
 },
 "nbformat": 4,
 "nbformat_minor": 4
}
