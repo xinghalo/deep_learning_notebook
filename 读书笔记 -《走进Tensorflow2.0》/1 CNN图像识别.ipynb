{
 "cells": [
  {
   "cell_type": "markdown",
   "metadata": {},
   "source": [
    "- [CNN模型 参考资料](https://blog.csdn.net/u012329554/article/details/106218161/)"
   ]
  },
  {
   "cell_type": "code",
   "execution_count": 2,
   "metadata": {},
   "outputs": [],
   "source": [
    "import tensorflow as tf\n",
    "import numpy as np"
   ]
  },
  {
   "cell_type": "code",
   "execution_count": 12,
   "metadata": {},
   "outputs": [
    {
     "name": "stdout",
     "output_type": "stream",
     "text": [
      "Model: \"sequential_5\"\n",
      "_________________________________________________________________\n",
      "Layer (type)                 Output Shape              Param #   \n",
      "=================================================================\n",
      "conv1 (Conv2D)               (None, 32, 32, 32)        896       \n",
      "_________________________________________________________________\n",
      "pool1 (MaxPooling2D)         (None, 32, 32, 32)        0         \n",
      "_________________________________________________________________\n",
      "bn1 (BatchNormalization)     (None, 32, 32, 32)        128       \n",
      "_________________________________________________________________\n",
      "conv2 (Conv2D)               (None, 32, 32, 64)        18496     \n",
      "_________________________________________________________________\n",
      "pool2 (MaxPooling2D)         (None, 32, 32, 64)        0         \n",
      "_________________________________________________________________\n",
      "bn2 (BatchNormalization)     (None, 32, 32, 64)        256       \n",
      "_________________________________________________________________\n",
      "conv3 (Conv2D)               (None, 32, 32, 128)       73856     \n",
      "_________________________________________________________________\n",
      "pool3 (MaxPooling2D)         (None, 32, 32, 128)       0         \n",
      "_________________________________________________________________\n",
      "bn3 (BatchNormalization)     (None, 32, 32, 128)       512       \n",
      "_________________________________________________________________\n",
      "flatten (Flatten)            (None, 131072)            0         \n",
      "_________________________________________________________________\n",
      "dropout (Dropout)            (None, 131072)            0         \n",
      "_________________________________________________________________\n",
      "softmax (Dense)              (None, 10)                1310730   \n",
      "=================================================================\n",
      "Total params: 1,404,874\n",
      "Trainable params: 1,404,426\n",
      "Non-trainable params: 448\n",
      "_________________________________________________________________\n"
     ]
    }
   ],
   "source": [
    "model = tf.keras.Sequential()\n",
    "model.add(tf.keras.layers.Conv2D(32, (3,3), strides=1, padding='same', activation='relu', input_shape=[32, 32, 3], name='conv1'))\n",
    "model.add(tf.keras.layers.MaxPool2D((2,2), strides=1, padding='same', name='pool1'))\n",
    "model.add(tf.keras.layers.BatchNormalization(name='bn1'))\n",
    "model.add(tf.keras.layers.Conv2D(64, (3,3), strides=1, padding='same', activation='relu', name='conv2'))\n",
    "model.add(tf.keras.layers.MaxPool2D((2,2), strides=1, padding='same', name='pool2'))\n",
    "model.add(tf.keras.layers.BatchNormalization(name='bn2'))\n",
    "model.add(tf.keras.layers.Conv2D(128, (3,3), strides=1, padding='same', activation='relu', name='conv3'))\n",
    "model.add(tf.keras.layers.MaxPool2D((2,2), strides=1, padding='same', name='pool3'))\n",
    "model.add(tf.keras.layers.BatchNormalization(name='bn3'))\n",
    "model.add(tf.keras.layers.Flatten(name='flatten'))\n",
    "model.add(tf.keras.layers.Dropout(0.2, name='dropout'))\n",
    "model.add(tf.keras.layers.Dense(10, name='softmax'))\n",
    "model.compile(loss='categorical_crossentropy', optimizer='adam', metrics=['accuracy'])\n",
    "model.summary()"
   ]
  },
  {
   "cell_type": "code",
   "execution_count": null,
   "metadata": {},
   "outputs": [
    {
     "name": "stdout",
     "output_type": "stream",
     "text": [
      "Downloading data from https://www.cs.toronto.edu/~kriz/cifar-10-python.tar.gz\n",
      "  9183232/170498071 [>.............................] - ETA: 2:38:45"
     ]
    }
   ],
   "source": [
    "(x_train, y_train), (x_test, y_test) = tf.keras.datasets.cifar10.load_data()"
   ]
  },
  {
   "cell_type": "code",
   "execution_count": null,
   "metadata": {},
   "outputs": [],
   "source": [
    "history = model.fit(train_images, train_labels, epochs=10, validation_data=(test_images, test_labels))"
   ]
  }
 ],
 "metadata": {
  "kernelspec": {
   "display_name": "Python 3",
   "language": "python",
   "name": "python3"
  },
  "language_info": {
   "codemirror_mode": {
    "name": "ipython",
    "version": 3
   },
   "file_extension": ".py",
   "mimetype": "text/x-python",
   "name": "python",
   "nbconvert_exporter": "python",
   "pygments_lexer": "ipython3",
   "version": "3.8.5"
  }
 },
 "nbformat": 4,
 "nbformat_minor": 4
}
